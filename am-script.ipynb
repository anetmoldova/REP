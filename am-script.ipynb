{
 "cells": [
  {
   "cell_type": "code",
   "execution_count": 1,
   "id": "b95c4cfb",
   "metadata": {},
   "outputs": [],
   "source": [
    "import pandas as pd\n",
    "import numpy as np"
   ]
  },
  {
   "cell_type": "code",
   "execution_count": 9,
   "id": "65a483d3",
   "metadata": {},
   "outputs": [
    {
     "data": {
      "text/html": [
       "<div>\n",
       "<style scoped>\n",
       "    .dataframe tbody tr th:only-of-type {\n",
       "        vertical-align: middle;\n",
       "    }\n",
       "\n",
       "    .dataframe tbody tr th {\n",
       "        vertical-align: top;\n",
       "    }\n",
       "\n",
       "    .dataframe thead th {\n",
       "        text-align: right;\n",
       "    }\n",
       "</style>\n",
       "<table border=\"1\" class=\"dataframe\">\n",
       "  <thead>\n",
       "    <tr style=\"text-align: right;\">\n",
       "      <th></th>\n",
       "      <th>nazev</th>\n",
       "      <th>cena_mesicne</th>\n",
       "      <th>velikost</th>\n",
       "      <th>adresa</th>\n",
       "      <th>mesto</th>\n",
       "      <th>typ</th>\n",
       "    </tr>\n",
       "  </thead>\n",
       "  <tbody>\n",
       "    <tr>\n",
       "      <th>0</th>\n",
       "      <td>byt v holesovicich</td>\n",
       "      <td>30000</td>\n",
       "      <td>2KK</td>\n",
       "      <td>Argentinská 123</td>\n",
       "      <td>Praha</td>\n",
       "      <td>byt</td>\n",
       "    </tr>\n",
       "    <tr>\n",
       "      <th>1</th>\n",
       "      <td>byt v centru</td>\n",
       "      <td>50000</td>\n",
       "      <td>1KK</td>\n",
       "      <td>Pražská 123</td>\n",
       "      <td>Praha</td>\n",
       "      <td>byt</td>\n",
       "    </tr>\n",
       "  </tbody>\n",
       "</table>\n",
       "</div>"
      ],
      "text/plain": [
       "                nazev  cena_mesicne velikost           adresa  mesto  typ\n",
       "0  byt v holesovicich         30000      2KK  Argentinská 123  Praha  byt\n",
       "1        byt v centru         50000      1KK      Pražská 123  Praha  byt"
      ]
     },
     "execution_count": 9,
     "metadata": {},
     "output_type": "execute_result"
    }
   ],
   "source": [
    "dict1 = {\n",
    "    'url': ['byt v holesovicich', 'byt v centru'],\n",
    "    'cena_mesicne': [30000, 50000],\n",
    "    'velikost': ['2KK', '1KK'],\n",
    "    'adresa': ['Argentinská 123', 'Pražská 123'],\n",
    "    'mesto': ['Praha', 'Praha'],\n",
    "    'typ': ['byt', 'byt']}\n",
    "\n",
    "df = pd.DataFrame.from_dict(dict1)\n",
    "df"
   ]
  },
  {
   "cell_type": "code",
   "execution_count": 11,
   "id": "f7cbffb6",
   "metadata": {},
   "outputs": [
    {
     "data": {
      "text/html": [
       "<div>\n",
       "<style scoped>\n",
       "    .dataframe tbody tr th:only-of-type {\n",
       "        vertical-align: middle;\n",
       "    }\n",
       "\n",
       "    .dataframe tbody tr th {\n",
       "        vertical-align: top;\n",
       "    }\n",
       "\n",
       "    .dataframe thead th {\n",
       "        text-align: right;\n",
       "    }\n",
       "</style>\n",
       "<table border=\"1\" class=\"dataframe\">\n",
       "  <thead>\n",
       "    <tr style=\"text-align: right;\">\n",
       "      <th></th>\n",
       "      <th>nazev</th>\n",
       "      <th>cena_mesicne</th>\n",
       "      <th>velikost</th>\n",
       "      <th>adresa</th>\n",
       "      <th>mesto</th>\n",
       "      <th>typ</th>\n",
       "    </tr>\n",
       "  </thead>\n",
       "  <tbody>\n",
       "    <tr>\n",
       "      <th>1</th>\n",
       "      <td>byt v centru</td>\n",
       "      <td>50000</td>\n",
       "      <td>1KK</td>\n",
       "      <td>Pražská 123</td>\n",
       "      <td>Praha</td>\n",
       "      <td>byt</td>\n",
       "    </tr>\n",
       "  </tbody>\n",
       "</table>\n",
       "</div>"
      ],
      "text/plain": [
       "          nazev  cena_mesicne velikost       adresa  mesto  typ\n",
       "1  byt v centru         50000      1KK  Pražská 123  Praha  byt"
      ]
     },
     "execution_count": 11,
     "metadata": {},
     "output_type": "execute_result"
    }
   ],
   "source": [
    "df[df['cena_mesicne'] >= 40000]"
   ]
  },
  {
   "cell_type": "code",
   "execution_count": null,
   "id": "a60d66ad",
   "metadata": {},
   "outputs": [],
   "source": [
    "h = []\n",
    "m = []"
   ]
  },
  {
   "cell_type": "code",
   "execution_count": 16,
   "id": "75f89782",
   "metadata": {},
   "outputs": [],
   "source": [
    "m.append('měsíční nájemné')\n",
    "h.append('30000')"
   ]
  },
  {
   "cell_type": "code",
   "execution_count": 18,
   "id": "7a732934",
   "metadata": {},
   "outputs": [],
   "source": [
    "dict1 = {\n",
    "    'metriky': m,\n",
    "    'hodnoty': h\n",
    "}"
   ]
  },
  {
   "cell_type": "code",
   "execution_count": 20,
   "id": "034769af",
   "metadata": {},
   "outputs": [
    {
     "data": {
      "text/html": [
       "<div>\n",
       "<style scoped>\n",
       "    .dataframe tbody tr th:only-of-type {\n",
       "        vertical-align: middle;\n",
       "    }\n",
       "\n",
       "    .dataframe tbody tr th {\n",
       "        vertical-align: top;\n",
       "    }\n",
       "\n",
       "    .dataframe thead th {\n",
       "        text-align: right;\n",
       "    }\n",
       "</style>\n",
       "<table border=\"1\" class=\"dataframe\">\n",
       "  <thead>\n",
       "    <tr style=\"text-align: right;\">\n",
       "      <th></th>\n",
       "      <th>metriky</th>\n",
       "      <th>hodnoty</th>\n",
       "    </tr>\n",
       "  </thead>\n",
       "  <tbody>\n",
       "    <tr>\n",
       "      <th>0</th>\n",
       "      <td>měsíční nájemné</td>\n",
       "      <td>30000</td>\n",
       "    </tr>\n",
       "  </tbody>\n",
       "</table>\n",
       "</div>"
      ],
      "text/plain": [
       "           metriky hodnoty\n",
       "0  měsíční nájemné   30000"
      ]
     },
     "execution_count": 20,
     "metadata": {},
     "output_type": "execute_result"
    }
   ],
   "source": [
    "df = pd.DataFrame.from_dict(dict1)\n",
    "df"
   ]
  },
  {
   "cell_type": "code",
   "execution_count": 28,
   "id": "f3ce931a",
   "metadata": {},
   "outputs": [
    {
     "name": "stdout",
     "output_type": "stream",
     "text": [
      "None\n"
     ]
    }
   ],
   "source": [
    "import os\n",
    "\n",
    "openai_key = os.getenv(\"OPENAI_API_KEY\")\n",
    "\n",
    "print(openai_key)"
   ]
  },
  {
   "cell_type": "code",
   "execution_count": null,
   "id": "266e1af6",
   "metadata": {},
   "outputs": [],
   "source": []
  }
 ],
 "metadata": {
  "kernelspec": {
   "display_name": "venv",
   "language": "python",
   "name": "python3"
  },
  "language_info": {
   "codemirror_mode": {
    "name": "ipython",
    "version": 3
   },
   "file_extension": ".py",
   "mimetype": "text/x-python",
   "name": "python",
   "nbconvert_exporter": "python",
   "pygments_lexer": "ipython3",
   "version": "3.13.3"
  }
 },
 "nbformat": 4,
 "nbformat_minor": 5
}
